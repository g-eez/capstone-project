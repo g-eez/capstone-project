{
  "cells": [
    {
      "cell_type": "markdown",
      "metadata": {
        "id": "view-in-github",
        "colab_type": "text"
      },
      "source": [
        "<a href=\"https://colab.research.google.com/github/g-eez/capstone-project/blob/Mohamed/respiratory_summary_notebook.ipynb\" target=\"_parent\"><img src=\"https://colab.research.google.com/assets/colab-badge.svg\" alt=\"Open In Colab\"/></a>"
      ]
    },
    {
      "cell_type": "markdown",
      "id": "213bc1dd",
      "metadata": {
        "id": "213bc1dd"
      },
      "source": [
        "# Respiratory Diseases — Dataset-based Summary (Colab)\n",
        "This notebook loads the provided CSV and generates a concise, dataset-only summary for each disease.\n",
        "**Output is strictly based on fields present in the CSV** (Symptoms, Treatment, Age, Sex, Nature).\n"
      ]
    },
    {
      "cell_type": "code",
      "execution_count": 24,
      "id": "0a267c40",
      "metadata": {
        "id": "0a267c40"
      },
      "outputs": [],
      "source": [
        "# Setup\n",
        "import pandas as pd\n",
        "from reportlab.lib.pagesizes import A4\n",
        "from reportlab.lib.styles import getSampleStyleSheet, ParagraphStyle\n",
        "from reportlab.platypus import SimpleDocTemplate, Paragraph, Spacer\n",
        "from reportlab.lib.units import inch"
      ]
    },
    {
      "cell_type": "code",
      "source": [
        "# Load dataset\n",
        "csv_path = \"/content/respiratory_symptoms_and_treatment.csv\"\n",
        "df = pd.read_csv(csv_path)\n",
        "df.columns = [c.strip() for c in df.columns]"
      ],
      "metadata": {
        "id": "A2YgbPpj7gPa"
      },
      "id": "A2YgbPpj7gPa",
      "execution_count": 25,
      "outputs": []
    },
    {
      "cell_type": "code",
      "source": [
        "# Filtering for respiratory diseases\n",
        "respiratory_keywords = [\n",
        "    \"asthma\", \"bronchitis\", \"bronchiolitis\", \"pneumonia\", \"influenza\",\n",
        "    \"tuberculosis\", \"asbestosis\", \"aspergillosis\", \"pneumothorax\",\n",
        "    \"pulmonary\", \"respiratory\", \"mesothelioma\", \"chronic bronchitis\",\n",
        "    \"chronic obstructive pulmonary disease\", \"sleep apnea\", \"acute respiratory distress\"\n",
        "]\n",
        "# Convert 'Disease' column to string type and handle potential NaN values\n",
        "df = df[df[\"Disease\"].astype(str).str.lower().apply(lambda x: any(k in x for k in respiratory_keywords))]"
      ],
      "metadata": {
        "id": "RShEwknx7xZZ"
      },
      "id": "RShEwknx7xZZ",
      "execution_count": 26,
      "outputs": []
    },
    {
      "cell_type": "code",
      "execution_count": 27,
      "id": "5f21f5a7",
      "metadata": {
        "id": "5f21f5a7"
      },
      "outputs": [],
      "source": [
        "# Aggregate concise summary\n",
        "agg = (\n",
        "    df.groupby(\"Disease\", dropna=False)\n",
        "      .agg({\n",
        "          \"Symptoms\": lambda x: sorted({s.strip() for s in x.dropna()}),\n",
        "          \"Treatment\": lambda x: sorted({str(t).strip() for t in x.dropna() if str(t).strip().lower() not in ['nan','none','']}),\n",
        "          \"Nature\": lambda x: sorted({str(n).strip() for n in x.dropna() if str(n).strip().lower() not in ['nan','none','']}),\n",
        "          \"Age\": lambda x: {\"min\": int(x.min()) if pd.notna(x.min()) else None, \"max\": int(x.max()) if pd.notna(x.max()) else None},\n",
        "          \"Sex\": lambda x: sorted({str(s).strip() for s in x.dropna() if str(s).strip().lower() not in ['nan','none','']})\n",
        "      })\n",
        "      .reset_index()\n",
        ")"
      ]
    },
    {
      "cell_type": "code",
      "execution_count": 28,
      "id": "910bc956",
      "metadata": {
        "colab": {
          "base_uri": "https://localhost:8080/"
        },
        "id": "910bc956",
        "outputId": "b2ca177e-f89f-4fad-f911-c9c5b4f5e7d4"
      },
      "outputs": [
        {
          "output_type": "stream",
          "name": "stdout",
          "text": [
            "PDF summary saved to: /content/Respiratory_Disease_Summary.pdf\n"
          ]
        }
      ],
      "source": [
        "# Generate PDF\n",
        "pdf_path = \"/content/Respiratory_Disease_Summary.pdf\"\n",
        "\n",
        "styles = getSampleStyleSheet()\n",
        "title_style = ParagraphStyle('TitleStyle', parent=styles['Heading1'], fontSize=18, spaceAfter=12)\n",
        "subheading_style = ParagraphStyle('SubHeading', parent=styles['Heading2'], fontSize=14, spaceAfter=6)\n",
        "text_style = ParagraphStyle('BodyText', parent=styles['Normal'], fontSize=11, leading=15)\n",
        "\n",
        "doc = SimpleDocTemplate(pdf_path, pagesize=A4)\n",
        "story = []\n",
        "\n",
        "story.append(Paragraph(\"Respiratory Diseases — Dataset-Based Summary\", title_style))\n",
        "story.append(Paragraph(\"This professional summary was generated strictly from the dataset fields (Symptoms, Treatments, Age, Sex, Nature).\", text_style))\n",
        "story.append(Spacer(1, 0.2 * inch))\n",
        "\n",
        "for _, row in agg.iterrows():\n",
        "    disease = row['Disease']\n",
        "    symptoms = ', '.join(row['Symptoms']) if row['Symptoms'] else 'No symptoms recorded.'\n",
        "    treatments = ', '.join(row['Treatment']) if row['Treatment'] else 'No treatments recorded.'\n",
        "    nature = ', '.join(row['Nature']) if row['Nature'] else 'None'\n",
        "    age = row['Age']\n",
        "    age_note = f\"Age range: {age.get('min')} — {age.get('max')}\" if age and (age.get('min') or age.get('max')) else \"Age range: not recorded\"\n",
        "    sex = ', '.join(row['Sex']) if row['Sex'] else 'Not recorded'\n",
        "\n",
        "    story.append(Paragraph(f\"Disease: {disease}\", subheading_style))\n",
        "    story.append(Paragraph(f\"<b>Symptoms:</b> {symptoms}\", text_style))\n",
        "    story.append(Paragraph(f\"<b>Treatments:</b> {treatments}\", text_style))\n",
        "    story.append(Paragraph(f\"<b>Dataset Notes:</b> {age_note}; Sex: {sex}; Nature: {nature}\", text_style))\n",
        "    story.append(Spacer(1, 0.15 * inch))\n",
        "\n",
        "doc.build(story)\n",
        "print(f\"PDF summary saved to: {pdf_path}\")"
      ]
    }
  ],
  "metadata": {
    "colab": {
      "provenance": [],
      "include_colab_link": true
    },
    "language_info": {
      "name": "python"
    },
    "kernelspec": {
      "name": "python3",
      "display_name": "Python 3"
    }
  },
  "nbformat": 4,
  "nbformat_minor": 5
}